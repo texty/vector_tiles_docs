{
 "cells": [
  {
   "cell_type": "markdown",
   "metadata": {},
   "source": [
    "# Як створювати інтерактивні карти з власними векторними тайлами (vector tile) за допомогою mapbox-gl.js \n",
    "\n",
    "Для чого це потрібно? Векторні тайли дозволяють створювати карти з __величезною кількістю елементів__ і запрограмувати їм __бажані стилі__. Карти при цьому не втрачають в продуктивності і легко будуть завантажуватися як на десктопах так і на мобільних телефонах без суттєвих затримок.  \n",
    "\n",
    "Наприклад, ми використали векторні тайли для карти результатів другого туру Президентських виборів в Україні весною 2019 року.\n",
    "\n",
    "[![Карта виборів Президента](image.png)](http://texty.org.ua/d/2019/president_elections_v2/)\n",
    "\n",
    "\n",
    "## Частина перша. Як створити кастомний векторний тайлами (vector tile) для карти.\n",
    "\n",
    "[Vector tile](https://docs.mapbox.com/vector-tiles/reference/ \"vector tiles mapbox\") або векторний тайл, це ефективний спосіб зберігати і використовувати геодані. Ми будемо користуватися векторними тайлами у форматі mbtiles. Це архів всередині якого знаходяться бінарні файли. Кожен файл описує всі елементи, що видно на карті при певному зумі в певній точці. Це така \"плитка\" на яку розбирата вся карта. На зумі 1, весь свій це одна \"плитка\", чим більший зум тим більше потрібно \"плиток\", щоб покрити всю карту і, відповідно тим більшими і важчим буде mbtiles архів, але з іншого боку можна буде відобразити більше деталей на карті.  \n",
    "\n",
    "Детальніше про те якими бувають зуми (великими і маленькими) можна почати за на сайті бібліотеки \n",
    "[leaflet.js](https://leafletjs.com/examples/zoom-levels/ \"leaflet docs\")  \n",
    "\n",
    "Більшость інструментів, які ми будемо використовувати створила команда mapbox, на їх сайті можна знайти документацію, описи і поради. Перше, що нам потрібно робити для того, щоб почати працювати з векторними тайлами це перетворити наш файл з геопросторовими даними в тайл. Для прикладу, ви можете скористатися файлом example.geojson, з цього репозиторія.  \n",
    "\n",
    "Я намалював його на цьому [сайті](http://geojson.io/ \"geojson.com\"). В цьому файлі кілька полігонів, ліній і маркерів в Києві і околицях. Що ми з ним зробимо:  \n",
    "\n",
    "* Перетворимо файл з геоданими в проекцію EPSG:4326.\n",
    "* Перетворимо geojson або шейпфайл (.shp) з правильною проекцією його в mbtiles.\n",
    "* Перевірити чи в mbtiles є ті елементи, що нам потрібні і, що вони відображаються правильно.\n",
    "* Розархівуємо mbtiles.\n",
    "\n",
    "\n",
    "Для того, щоб змінити проекцію вам можна використати утиліту [ogr2ogr](https://gdal.org/programs/ogr2ogr.html \"ogr2ogr\"). Вона є частиною бібліотеки [GDLA](https://gdal.org/ \"GDAL\"). За посилання на утиліту можна почитати її документацію і подивитися, що означають різні параметри. У нашому випадку, потрібна одна проста команда: \n",
    "\n",
    "`\n",
    "ogr2ogr -f GeoJSON example_4326.geojson -t_srs EPSG:4326 example.geojson\n",
    "`  \n",
    "\n",
    "example.geojson - це наш початковий файл, example_4326.geojson назва файлу який ми хочемо отримати на виході. Важливо, що ogr2ogr не стане перезаписувати файл, якщо у папці вже буде файл з такою ж назвою і викине вам помилку.\n",
    "\n",
    "\n",
    "\n",
    "Потрібно зробити це для того, щоб підготувати геоджейсон\n",
    "ogr2ogr -f GeoJSON your_data_in_4326.json -t_srs EPSG:4326 your_data.shp\n",
    "\n",
    "Бібліотека, що вміє створювати тайл з geojson, тут можна почитати доки\n",
    "https://github.com/mapbox/tippecanoe\n",
    "\n",
    "elections_v7.mbtiles - тайли\n",
    "tippecanoe -o output.mbtiles -z12 -Z4 --coalesce-densest-as-needed --generate-ids input.geojson\n",
    "\n",
    "захостити тайл онлайн\n",
    "sudo docker run -it -v $(pwd):/data -p 8080:80 klokantech/tileserver-gl elections_v7.mbtiles\n",
    "\n",
    "\n",
    "Все, що ми робили вище я дізнався з цього [туторіалу](https://openmaptiles.org/docs/generate/custom-vector-from-shapefile-geojson/ \"openmaptiles\")\n",
    "\n",
    "Ця штука дозволяє перетворити mbite файл в статичну папку з тайлами\n",
    "https://github.com/klokantech/vector-tiles-sample\n",
    "\n",
    "Код який потрібно запустити. Спочатку в папці де mbile файл, а тоді перейти в середину створеної папки (тут countries) і запустити дві наступні. Вони розпаковують і перейменовують. \n",
    "В кінці потрібно перейменувати json file \n",
    "./mb-util --image_format=pbf countries.mbtiles countries\n",
    "gzip -d -r -S .pbf *\n",
    "find . -type f -exec mv '{}' '{}'.pbf \\;\n",
    "\n"
   ]
  }
 ],
 "metadata": {
  "kernelspec": {
   "display_name": "Python 3",
   "language": "python",
   "name": "python3"
  },
  "language_info": {
   "codemirror_mode": {
    "name": "ipython",
    "version": 3
   },
   "file_extension": ".py",
   "mimetype": "text/x-python",
   "name": "python",
   "nbconvert_exporter": "python",
   "pygments_lexer": "ipython3",
   "version": "3.7.4"
  },
  "varInspector": {
   "cols": {
    "lenName": 16,
    "lenType": 16,
    "lenVar": 40
   },
   "kernels_config": {
    "python": {
     "delete_cmd_postfix": "",
     "delete_cmd_prefix": "del ",
     "library": "var_list.py",
     "varRefreshCmd": "print(var_dic_list())"
    },
    "r": {
     "delete_cmd_postfix": ") ",
     "delete_cmd_prefix": "rm(",
     "library": "var_list.r",
     "varRefreshCmd": "cat(var_dic_list()) "
    }
   },
   "types_to_exclude": [
    "module",
    "function",
    "builtin_function_or_method",
    "instance",
    "_Feature"
   ],
   "window_display": false
  }
 },
 "nbformat": 4,
 "nbformat_minor": 2
}
