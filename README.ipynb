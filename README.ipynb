{
 "cells": [
  {
   "cell_type": "markdown",
   "metadata": {},
   "source": [
    "# Як створювати інтерактивні карти з власними векторними шарами (vector tile) за допомогою mapbox-gl.js \n",
    "\n",
    "Для чого це потрібно? Векторні шари дозволяють створювати карти з величезною кількістю елементів (як точок, полігонів і ліній так і елементів підкладкик) і надавати їм бажані стилі. Карти при цьому не втрачають в продуктивності і легко будуть завантажуватися як на десктопах так і на мобільних телефонах без суттєвих затримок.\n",
    "\n",
    "\n",
    "## Частина перша. Як створити кастомний векторний шар (vector tile) для карти.\n",
    "\n",
    "Vector tile або векторний шар, це ефективний спосіб зберігати і використовувати геодані. Ми будемо користуватися векторними шарами у форматі mbtiles. Це архів всередині якого знаходяться бінарні файли. Кожен файл описує всі елементи, що видно на карті при певному зумі в певній точці. Це така \"плитка\" на яку розбирата вся карта. На зумі 1, весь свій це одна \"плитка\", чим більший зум тим більше потрібно \"плиток\", щоб покрити всю карту і, відповідно тим більшими і важчим буде mbtiles архів, але з іншого боку можна буде відобразити більше деталей на карті.  \n",
    "  \n",
    "Детальніше про те якими бувають зуми (великими і маленькими) можна почати за на сайті бібліотеки \n",
    "[leaflet.js](https://leafletjs.com/examples/zoom-levels/ \"leaflet docs\")  \n",
    "Перша, що вам потрібно \n",
    "\n",
    "ogr2ogr -f GeoJSON example_4326.geojson -t_srs EPSG:4326 example.geojson \n",
    "\n",
    "Почав з цього туторіала\n",
    "https://openmaptiles.org/docs/generate/custom-vector-from-shapefile-geojson/\n",
    "\n",
    "Потрібно зробити це для того, щоб підготувати геоджейсон\n",
    "ogr2ogr -f GeoJSON your_data_in_4326.json -t_srs EPSG:4326 your_data.shp\n",
    "\n",
    "Бібліотека, що вміє створювати тайл з geojson, тут можна почитати доки\n",
    "https://github.com/mapbox/tippecanoe\n",
    "\n",
    "elections_v7.mbtiles - тайли\n",
    "tippecanoe -o output.mbtiles -z12 -Z4 --coalesce-densest-as-needed --generate-ids input.geojson\n",
    "\n",
    "захостити тайл онлайн\n",
    "sudo docker run -it -v $(pwd):/data -p 8080:80 klokantech/tileserver-gl elections_v7.mbtiles\n",
    "\n",
    "Ця штука дозволяє перетворити mbite файл в статичну папку з тайлами\n",
    "https://github.com/klokantech/vector-tiles-sample\n",
    "\n",
    "Код який потрібно запустити. Спочатку в папці де mbile файл, а тоді перейти в середину створеної папки (тут countries) і запустити дві наступні. Вони розпаковують і перейменовують. \n",
    "В кінці потрібно перейменувати json file \n",
    "./mb-util --image_format=pbf countries.mbtiles countries\n",
    "gzip -d -r -S .pbf *\n",
    "find . -type f -exec mv '{}' '{}'.pbf \\;\n",
    "\n"
   ]
  },
  {
   "cell_type": "code",
   "execution_count": null,
   "metadata": {},
   "outputs": [],
   "source": []
  }
 ],
 "metadata": {
  "kernelspec": {
   "display_name": "Python 3",
   "language": "python",
   "name": "python3"
  },
  "language_info": {
   "codemirror_mode": {
    "name": "ipython",
    "version": 3
   },
   "file_extension": ".py",
   "mimetype": "text/x-python",
   "name": "python",
   "nbconvert_exporter": "python",
   "pygments_lexer": "ipython3",
   "version": "3.7.4"
  },
  "varInspector": {
   "cols": {
    "lenName": 16,
    "lenType": 16,
    "lenVar": 40
   },
   "kernels_config": {
    "python": {
     "delete_cmd_postfix": "",
     "delete_cmd_prefix": "del ",
     "library": "var_list.py",
     "varRefreshCmd": "print(var_dic_list())"
    },
    "r": {
     "delete_cmd_postfix": ") ",
     "delete_cmd_prefix": "rm(",
     "library": "var_list.r",
     "varRefreshCmd": "cat(var_dic_list()) "
    }
   },
   "types_to_exclude": [
    "module",
    "function",
    "builtin_function_or_method",
    "instance",
    "_Feature"
   ],
   "window_display": false
  }
 },
 "nbformat": 4,
 "nbformat_minor": 2
}
